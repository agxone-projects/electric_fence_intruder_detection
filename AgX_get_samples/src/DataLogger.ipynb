{
 "metadata": {
  "language_info": {
   "codemirror_mode": {
    "name": "ipython",
    "version": 3
   },
   "file_extension": ".py",
   "mimetype": "text/x-python",
   "name": "python",
   "nbconvert_exporter": "python",
   "pygments_lexer": "ipython3",
   "version": "3.7.5-final"
  },
  "orig_nbformat": 2,
  "kernelspec": {
   "name": "python3",
   "display_name": "Python 3.7.5 64-bit (conda)",
   "metadata": {
    "interpreter": {
     "hash": "2ed7d1774447794759f4ba7a15a0b1b91bdce0780cc336af706e618aa8d59003"
    }
   }
  }
 },
 "nbformat": 4,
 "nbformat_minor": 2,
 "cells": [
  {
   "cell_type": "code",
   "execution_count": 1,
   "metadata": {},
   "outputs": [],
   "source": [
    "import serial\n",
    "import time\n",
    "\n"
   ]
  },
  {
   "cell_type": "code",
   "execution_count": 2,
   "metadata": {},
   "outputs": [],
   "source": [
    "ser = serial.Serial('COM6',57600)"
   ]
  },
  {
   "cell_type": "code",
   "execution_count": 3,
   "metadata": {},
   "outputs": [],
   "source": [
    "ser.flushInput()\n"
   ]
  },
  {
   "cell_type": "code",
   "execution_count": 4,
   "metadata": {},
   "outputs": [],
   "source": [
    "def represents_int(s):\n",
    "    try: \n",
    "        int(s)\n",
    "        return True\n",
    "    except ValueError:\n",
    "        return False"
   ]
  },
  {
   "cell_type": "code",
   "execution_count": 5,
   "metadata": {
    "tags": []
   },
   "outputs": [
    {
     "output_type": "stream",
     "name": "stdout",
     "text": [
      "Loops:  1000\n",
      "Loops:  2000\n",
      "Loops:  3000\n",
      "Loops:  4000\n",
      "Loops:  5000\n",
      "Loops:  6000\n",
      "Loops:  7000\n",
      "Loops:  8000\n",
      "Loops:  9000\n",
      "Loops:  10000\n",
      "Loops:  11000\n",
      "Loops:  12000\n",
      "Loops:  13000\n",
      "Loops:  14000\n",
      "Loops:  15000\n",
      "Loops:  16000\n",
      "Loops:  17000\n",
      "Loops:  18000\n",
      "Loops:  19000\n",
      "Loops:  20000\n",
      "Loops:  21000\n",
      "Loops:  22000\n",
      "Loops:  23000\n",
      "Loops:  24000\n",
      "Loops:  25000\n",
      "Loops:  26000\n",
      "Loops:  27000\n",
      "Loops:  28000\n",
      "Loops:  29000\n",
      "Loops:  30000\n",
      "Loops:  31000\n",
      "Loops:  32000\n",
      "Loops:  33000\n",
      "Loops:  34000\n",
      "Loops:  35000\n",
      "Loops:  36000\n",
      "Loops:  37000\n",
      "Loops:  38000\n",
      "Loops:  39000\n",
      "Loops:  40000\n",
      "Loops:  41000\n",
      "Loops:  42000\n",
      "Loops:  43000\n",
      "Loops:  44000\n",
      "Loops:  45000\n",
      "Loops:  46000\n",
      "Loops:  47000\n",
      "Loops:  48000\n",
      "Loops:  49000\n",
      "Loops:  50000\n",
      "Loops:  51000\n",
      "Loops:  52000\n",
      "Loops:  53000\n",
      "Loops:  54000\n",
      "Loops:  55000\n",
      "Loops:  56000\n",
      "Loops:  57000\n",
      "Loops:  58000\n",
      "Loops:  59000\n",
      "Loops:  60000\n",
      "Non integer output:  done\n",
      "breaking\n",
      "Elapsed time:  76.59570693969727\n"
     ]
    }
   ],
   "source": [
    "# with open(\"test_data.txt\",\"w\") as f:\n",
    "samples = []\n",
    "# timing = []\n",
    "count = 0\n",
    "\n",
    "ser.flushInput()\n",
    "\n",
    "start_time = time.time()\n",
    "\n",
    "ser.write(\"start\".encode(\"utf-8\"))\n",
    "\n",
    "\n",
    "while True:\n",
    "    # start_time = time.time()\n",
    "    count += 1\n",
    "    if count%1000 == 0:\n",
    "        print(\"Loops: \", count)\n",
    "    ser_bytes = ser.readline()\n",
    "    # print(len(decoded_bytes))\n",
    "    # if len(ser_bytes)==0:\n",
    "    #     ser.write(\"start\".encode(\"utf-8\"))\n",
    "\n",
    "    try:\n",
    "        decoded_bytes = ser_bytes[:-2].decode('utf-8')\n",
    "        # print(decoded_bytes)\n",
    "    except:\n",
    "        decoded_bytes = \"\"\n",
    "        print(\"Not a utf-8 string!! : \", ser_bytes)\n",
    "        continue\n",
    "\n",
    "    if represents_int(decoded_bytes):\n",
    "        samples.append(decoded_bytes)\n",
    "    else:\n",
    "        print(\"Non integer output: \", decoded_bytes)\n",
    "    \n",
    "    if decoded_bytes == \"done\":\n",
    "        print(\"breaking\")\n",
    "        break\n",
    "\n",
    "elapsed_time = time.time() - start_time\n",
    "print(\"Elapsed time: \",elapsed_time)"
   ]
  },
  {
   "cell_type": "code",
   "execution_count": 6,
   "metadata": {},
   "outputs": [
    {
     "output_type": "stream",
     "name": "stdout",
     "text": [
      "Number of samples:  60000\n"
     ]
    }
   ],
   "source": [
    "print(\"Number of samples: \",len(samples))\n",
    "# print(\"Time per loop: \", mean(timing))"
   ]
  },
  {
   "cell_type": "code",
   "execution_count": 7,
   "metadata": {},
   "outputs": [],
   "source": [
    "with open(\"samples.txt\",\"w\") as f:\n",
    "    for sample in samples:\n",
    "        f.write(sample+\"\\n\")\n"
   ]
  },
  {
   "cell_type": "code",
   "execution_count": 8,
   "metadata": {},
   "outputs": [],
   "source": [
    "with open(\"samples.txt\",\"r\") as f:\n",
    "    samples = []\n",
    "    for line in f:\n",
    "        samples.append(int(line.strip()))"
   ]
  },
  {
   "cell_type": "code",
   "execution_count": 9,
   "metadata": {},
   "outputs": [],
   "source": [
    "import matplotlib\n",
    "matplotlib.use(\"tkAgg\")\n",
    "import matplotlib.pyplot as plt\n",
    "\n",
    "\n",
    "plt.figure(figsize=(20,8))\n",
    "plt.axis(ymin=0,ymax=4095)\n",
    "plt.plot(samples)\n",
    "plt.show()"
   ]
  },
  {
   "cell_type": "code",
   "execution_count": null,
   "metadata": {},
   "outputs": [],
   "source": []
  }
 ]
}